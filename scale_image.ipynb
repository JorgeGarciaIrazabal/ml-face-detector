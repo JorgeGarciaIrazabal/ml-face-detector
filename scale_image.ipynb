{
 "cells": [
  {
   "cell_type": "code",
   "execution_count": 23,
   "metadata": {
    "collapsed": true,
    "pycharm": {
     "is_executing": false
    }
   },
   "outputs": [],
   "source": [
    "import cv2\n",
    "from pathlib import Path\n",
    "import pandas as pd\n",
    "import matplotlib.pyplot as plt\n",
    "import torch\n",
    "from numpy import zeros, array, vstack\n",
    "import numpy as np\n",
    "import torch.utils.data as data_utils\n",
    "from torch import Tensor\n",
    "from torch import nn\n",
    "from torch.nn import functional as F\n",
    "import torch.optim as optim"
   ]
  },
  {
   "cell_type": "code",
   "execution_count": 3,
   "outputs": [],
   "source": [
    "root = Path(\".\").resolve().absolute()\n",
    "jorge_path = root / \"jorge\"\n",
    "jorge_dst_path = root / \"jorge_100\"\n",
    "marissa_path = root / \"marissa\"\n",
    "marissa_dst_path = root / \"marissa_100\""
   ],
   "metadata": {
    "collapsed": false,
    "pycharm": {
     "name": "#%%\n",
     "is_executing": false
    }
   }
  },
  {
   "cell_type": "code",
   "execution_count": 4,
   "outputs": [],
   "source": [
    "for f in jorge_path.iterdir():\n",
    "    old_image = cv2.imread(str(f))\n",
    "    image = cv2.resize(old_image, (100,100))\n",
    "    cv2.imwrite(str(jorge_dst_path / f.name), image)"
   ],
   "metadata": {
    "collapsed": false,
    "pycharm": {
     "name": "#%%\n",
     "is_executing": false
    }
   }
  },
  {
   "cell_type": "code",
   "execution_count": 5,
   "outputs": [],
   "source": [
    "for f in marissa_path.iterdir():\n",
    "    old_image = cv2.imread(str(f))\n",
    "    image = cv2.resize(old_image, (100,100))\n",
    "    cv2.imwrite(str(marissa_dst_path / f.name), image)\n"
   ],
   "metadata": {
    "collapsed": false,
    "pycharm": {
     "name": "#%%\n",
     "is_executing": false
    }
   }
  },
  {
   "cell_type": "code",
   "execution_count": 29,
   "outputs": [
    {
     "data": {
      "text/plain": "100"
     },
     "metadata": {},
     "output_type": "execute_result",
     "execution_count": 29
    }
   ],
   "source": [
    "all_arrays = []\n",
    "train_arrays = []\n",
    "test_arrays = []\n",
    "for f in jorge_dst_path.iterdir():\n",
    "    all_arrays.append(cv2.imread(str(f))[:, :, 0].flatten())\n",
    "train_arrays = all_arrays[:250]\n",
    "test_arrays = all_arrays[250:]\n",
    "for f in marissa_dst_path.iterdir():\n",
    "    all_arrays.append(cv2.imread(str(f))[:, :, 0].flatten())\n",
    "train_arrays += all_arrays[300:550]\n",
    "test_arrays += all_arrays[550:]\n",
    "\n",
    "all_arrays = vstack(all_arrays)\n",
    "train_arrays = vstack(train_arrays)\n",
    "test_arrays = vstack(test_arrays)\n",
    "len(test_arrays)"
   ],
   "metadata": {
    "collapsed": false,
    "pycharm": {
     "name": "#%%\n",
     "is_executing": false
    }
   }
  },
  {
   "cell_type": "code",
   "execution_count": 9,
   "outputs": [
    {
     "data": {
      "text/plain": "<matplotlib.image.AxesImage at 0x7f699303b250>"
     },
     "metadata": {},
     "output_type": "execute_result",
     "execution_count": 9
    },
    {
     "data": {
      "text/plain": "<Figure size 432x288 with 1 Axes>",
      "image/png": "[encoded data removed]"
     },
     "metadata": {
      "needs_background": "light"
     },
     "output_type": "display_data"
    }
   ],
   "source": [
    "plt.imshow(np.split(train_arrays[-30], 100))"
   ],
   "metadata": {
    "collapsed": false,
    "pycharm": {
     "name": "#%%\n",
     "is_executing": false
    }
   }
  },
  {
   "cell_type": "code",
   "execution_count": 21,
   "outputs": [],
   "source": [
    "train = torch.tensor(train_arrays)\n",
    "train_target = torch.tensor(np.concatenate((zeros(250), np.ones(250))))\n",
    "train_tensor = data_utils.TensorDataset(train, train_target) \n",
    "trainset = data_utils.DataLoader(dataset = train_tensor, batch_size = 10, shuffle = True)\n",
    "# train_tensor.tensors"
   ],
   "metadata": {
    "collapsed": false,
    "pycharm": {
     "name": "#%%\n",
     "is_executing": false
    }
   }
  },
  {
   "cell_type": "code",
   "execution_count": 38,
   "outputs": [],
   "source": [
    "test = torch.tensor(test_arrays)\n",
    "test_target = torch.tensor(np.concatenate((zeros(50), np.ones(50))))\n",
    "test_tensor = data_utils.TensorDataset(test, test_target) \n",
    "testset = data_utils.DataLoader(dataset = test_tensor, batch_size = 1, shuffle = True)\n",
    "# train_tensor.tensors"
   ],
   "metadata": {
    "collapsed": false,
    "pycharm": {
     "name": "#%%\n",
     "is_executing": false
    }
   }
  },
  {
   "cell_type": "code",
   "execution_count": 13,
   "outputs": [],
   "source": [
    "class Net(torch.nn.Module):\n",
    "    def __init__(self) -> None:\n",
    "        super().__init__()\n",
    "        self.fc1 = nn.Linear(100 * 100, 64)\n",
    "        self.fc2 = nn.Linear(64, 64)\n",
    "        self.fc3 = nn.Linear(64, 64)\n",
    "        self.fc4 = nn.Linear(64, 2)\n",
    "\n",
    "    def forward(self, x):\n",
    "        x = F.relu(self.fc1(x))\n",
    "        x = F.relu(self.fc2(x))\n",
    "        x = F.relu(self.fc3(x))\n",
    "        x = self.fc4(x)\n",
    "        return F.log_softmax(x, dim=1)"
   ],
   "metadata": {
    "collapsed": false,
    "pycharm": {
     "name": "#%%\n",
     "is_executing": false
    }
   }
  },
  {
   "cell_type": "code",
   "execution_count": 27,
   "outputs": [
    {
     "data": {
      "text/plain": "<generator object Module.parameters at 0x7f6991d12a50>"
     },
     "metadata": {},
     "output_type": "execute_result",
     "execution_count": 27
    }
   ],
   "source": [
    "net = Net()\n",
    "loss_function = nn.CrossEntropyLoss()\n",
    "optimizer = optim.Adam(net.parameters(), lr=0.001)\n",
    "net.parameters()"
   ],
   "metadata": {
    "collapsed": false,
    "pycharm": {
     "name": "#%%\n",
     "is_executing": false
    }
   }
  },
  {
   "cell_type": "code",
   "execution_count": 28,
   "outputs": [
    {
     "name": "stdout",
     "text": [
      "tensor(1.1921e-08, grad_fn=<NllLossBackward>)\n",
      "tensor(0., grad_fn=<NllLossBackward>)\n",
      "tensor(3.5763e-08, grad_fn=<NllLossBackward>)\n"
     ],
     "output_type": "stream"
    }
   ],
   "source": [
    "for epoch in range(3):\n",
    "    for X, y in trainset:\n",
    "        net.zero_grad() \n",
    "        output = net(X.float()) \n",
    "        loss = F.nll_loss(output, y.long()) \n",
    "        loss.backward()\n",
    "        optimizer.step()\n",
    "    print(loss)"
   ],
   "metadata": {
    "collapsed": false,
    "pycharm": {
     "name": "#%%\n",
     "is_executing": false
    }
   }
  },
  {
   "cell_type": "code",
   "execution_count": 39,
   "outputs": [
    {
     "name": "stdout",
     "text": [
      "Accuracy:  1.0\n"
     ],
     "output_type": "stream"
    }
   ],
   "source": [
    "correct = 0\n",
    "total = 0\n",
    "with torch.no_grad():\n",
    "    for X, y in testset:\n",
    "        output = net(X.float())\n",
    "        #print(output)\n",
    "        for idx, i in enumerate(output):\n",
    "            #print(torch.argmax(i), y[idx])\n",
    "            if torch.argmax(i) == y[idx]:\n",
    "                correct += 1\n",
    "            total += 1\n",
    "\n",
    "print(\"Accuracy: \", round(correct/total, 3))"
   ],
   "metadata": {
    "collapsed": false,
    "pycharm": {
     "name": "#%%\n",
     "is_executing": false
    }
   }
  },
  {
   "cell_type": "code",
   "execution_count": 67,
   "outputs": [
    {
     "name": "stdout",
     "text": [
      "IS MARISSA\n",
      "CPU times: user 4.52 ms, sys: 1.85 ms, total: 6.37 ms\n",
      "Wall time: 2.95 ms\n"
     ],
     "output_type": "stream"
    }
   ],
   "source": [
    "%%time\n",
    "with torch.no_grad():\n",
    "    index = -15\n",
    "    # plt.imshow(np.split(test_arrays[index], 100))\n",
    "    t = torch.tensor([test_arrays[index]])\n",
    "    output = net(t.float())\n",
    "    if torch.argmax(output) == 0:\n",
    "        print(\"IS JORGE\")\n",
    "    else:\n",
    "        print(\"IS MARISSA\")"
   ],
   "metadata": {
    "collapsed": false,
    "pycharm": {
     "name": "#%%\n",
     "is_executing": false
    }
   }
  }
 ],
 "metadata": {
  "kernelspec": {
   "display_name": "Python 3",
   "language": "python",
   "name": "python3"
  },
  "language_info": {
   "codemirror_mode": {
    "name": "ipython",
    "version": 2
   },
   "file_extension": ".py",
   "mimetype": "text/x-python",
   "name": "python",
   "nbconvert_exporter": "python",
   "pygments_lexer": "ipython2",
   "version": "2.7.6"
  },
  "pycharm": {
   "stem_cell": {
    "cell_type": "raw",
    "source": [],
    "metadata": {
     "collapsed": false
    }
   }
  }
 },
 "nbformat": 4,
 "nbformat_minor": 0
}